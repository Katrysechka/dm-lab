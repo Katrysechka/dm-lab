{
  "nbformat": 4,
  "nbformat_minor": 0,
  "metadata": {
    "colab": {
      "provenance": []
    },
    "kernelspec": {
      "name": "python3",
      "display_name": "Python 3"
    },
    "language_info": {
      "name": "python"
    }
  },
  "cells": [
    {
      "cell_type": "code",
      "execution_count": null,
      "metadata": {
        "id": "-hDGvIPD73HI"
      },
      "outputs": [],
      "source": [
        "import numpy as np\n",
        "import matplotlib.pyplot as plt\n",
        "import seaborn as sns\n",
        "from src.data_generation import generate_sample\n",
        "from src.graph_utils import build_knn_graph, build_distance_graph, max_degree, max_independent_set_size\n",
        "\n",
        "sns.set(style=\"whitegrid\")\n",
        "n = 100\n",
        "k = 5\n",
        "d = 0.3\n"
      ]
    },
    {
      "cell_type": "markdown",
      "source": [
        "Создаём диапазон параметров nu для t-распределения от 1.5 до 6.0. \\\\\n",
        "Для каждого nu генерируем выборку из t-распределения,cтроим KNN-граф и Distance-граф на этой выборке."
      ],
      "metadata": {
        "id": "UFqXfuSC8zVf"
      }
    },
    {
      "cell_type": "code",
      "source": [
        "nu_range = np.linspace(1.5, 6.0, 10)\n",
        "results_knn = []\n",
        "results_dist = []\n",
        "\n",
        "for nu in nu_range:\n",
        "    sample = np.random.standard_t(df=nu, size=n)\n",
        "    G_knn = build_knn_graph(sample, k)\n",
        "    G_dist = build_distance_graph(sample, d)\n",
        "\n",
        "    results_knn.append(max_degree(G_knn))\n",
        "    results_dist.append(max_independent_set_size(G_dist))\n"
      ],
      "metadata": {
        "id": "wrWJnLw38D7e"
      },
      "execution_count": null,
      "outputs": []
    },
    {
      "cell_type": "code",
      "source": [
        "plt.figure(figsize=(10, 5))\n",
        "plt.plot(nu_range, results_knn, label='KNN max_degree')\n",
        "plt.plot(nu_range, results_dist, label='Distance MIS size')\n",
        "plt.xlabel('ν (параметр t-распределения)')\n",
        "plt.ylabel('Характеристика графа')\n",
        "plt.legend()\n",
        "plt.title('Зависимость характеристик от ν')\n",
        "plt.show()\n"
      ],
      "metadata": {
        "id": "Kc8egRDj8ECF"
      },
      "execution_count": null,
      "outputs": []
    }
  ]
}