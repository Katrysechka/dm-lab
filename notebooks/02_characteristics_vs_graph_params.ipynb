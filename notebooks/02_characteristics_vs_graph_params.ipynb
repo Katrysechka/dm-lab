{
  "nbformat": 4,
  "nbformat_minor": 0,
  "metadata": {
    "colab": {
      "provenance": []
    },
    "kernelspec": {
      "name": "python3",
      "display_name": "Python 3"
    },
    "language_info": {
      "name": "python"
    }
  },
  "cells": [
    {
      "cell_type": "code",
      "execution_count": null,
      "metadata": {
        "id": "-hDGvIPD73HI"
      },
      "outputs": [],
      "source": [
        "import numpy as np\n",
        "import matplotlib.pyplot as plt\n",
        "from src.data_generation import generate_sample\n",
        "from src.graph_utils import build_knn_graph, build_distance_graph, max_degree, max_independent_set_size\n",
        "\n",
        "theta0 = \"t3\"\n"
      ]
    },
    {
      "cell_type": "code",
      "source": [
        "n_values = [20, 50, 100, 200, 500]\n",
        "max_degrees = []\n",
        "mis_sizes = []\n",
        "\n",
        "for n in n_values:\n",
        "    data = generate_sample(\"t3\", n, seed=42)\n",
        "    G_knn = build_knn_graph(data, k=5)\n",
        "    G_dist = build_distance_graph(data, d=0.3)\n",
        "\n",
        "    max_degrees.append(max_degree(G_knn))\n",
        "    mis_sizes.append(max_independent_set_size(G_dist))\n",
        "\n",
        "plt.plot(n_values, max_degrees, label=\"KNN max_degree\")\n",
        "plt.plot(n_values, mis_sizes, label=\"Distance MIS\")\n",
        "plt.xlabel(\"Размер выборки n\")\n",
        "plt.ylabel(\"Характеристика графа\")\n",
        "plt.title(\"Характеристики vs размер выборки\")\n",
        "plt.legend()\n",
        "plt.show()\n"
      ],
      "metadata": {
        "id": "wrWJnLw38D7e"
      },
      "execution_count": null,
      "outputs": []
    },
    {
      "cell_type": "code",
      "source": [
        "ks = range(1, 10)\n",
        "ds = np.linspace(0.1, 1.0, 10)\n",
        "knn_degrees = [max_degree(build_knn_graph(generate_sample(\"t3\", 100, seed=42), k)) for k in ks]\n",
        "dist_mis = [max_independent_set_size(build_distance_graph(generate_sample(\"t3\", 100, seed=42), d)) for d in ds]\n",
        "\n",
        "plt.plot(ks, knn_degrees, label='KNN max_degree')\n",
        "plt.plot(ds, dist_mis, label='Distance MIS')\n",
        "plt.xlabel(\"k / d\")\n",
        "plt.ylabel(\"Характеристика графа\")\n",
        "plt.title(\"Зависимость характеристик от параметров графа\")\n",
        "plt.legend()\n",
        "plt.show()\n"
      ],
      "metadata": {
        "id": "Kc8egRDj8ECF"
      },
      "execution_count": null,
      "outputs": []
    }
  ]
}