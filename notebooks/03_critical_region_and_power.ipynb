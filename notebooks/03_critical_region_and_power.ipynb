{
  "nbformat": 4,
  "nbformat_minor": 0,
  "metadata": {
    "colab": {
      "provenance": []
    },
    "kernelspec": {
      "name": "python3",
      "display_name": "Python 3"
    },
    "language_info": {
      "name": "python"
    }
  },
  "cells": [
    {
      "cell_type": "code",
      "execution_count": null,
      "metadata": {
        "id": "-hDGvIPD73HI"
      },
      "outputs": [],
      "source": [
        "from src.graph_utils import max_degree\n",
        "from src.experiment_tools import monte_carlo_characteristic, build_threshold\n",
        "import numpy as np\n",
        "import matplotlib.pyplot as plt\n",
        "\n",
        "alpha = 0.055\n",
        "n = 100\n",
        "k = 5\n",
        "n_iter = 300\n"
      ]
    },
    {
      "cell_type": "code",
      "source": [
        "T_H0 = monte_carlo_characteristic(\"t3\", \"knn\", max_degree, k, n, n_iter)\n",
        "T_H1 = monte_carlo_characteristic(\"normal\", \"knn\", max_degree, k, n, n_iter)\n",
        "thresh = build_threshold(T_H0, alpha)\n",
        "power = np.mean(T_H1 > thresh)\n",
        "print(f\"KNN: threshold={thresh:.2f}, power={power:.3f}\")\n"
      ],
      "metadata": {
        "id": "wrWJnLw38D7e"
      },
      "execution_count": null,
      "outputs": []
    },
    {
      "cell_type": "code",
      "source": [
        "plt.hist(T_H0, bins=20, alpha=0.6, label='H0 (t3)')\n",
        "plt.hist(T_H1, bins=20, alpha=0.6, label='H1 (normal)')\n",
        "plt.axvline(thresh, color='red', linestyle='--', label='Порог')\n",
        "plt.title(\"Распределение max_degree (KNN)\")\n",
        "plt.legend()\n",
        "plt.show()\n"
      ],
      "metadata": {
        "id": "Kc8egRDj8ECF"
      },
      "execution_count": null,
      "outputs": []
    }
  ]
}