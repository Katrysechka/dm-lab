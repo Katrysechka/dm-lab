{
 "cells": [
  {
   "cell_type": "markdown",
   "metadata": {
    "id": "vHMz2AF4HCx7"
   },
   "source": [
    "# Часть I: Исследование одной характеристики\n",
    "\n",
    "Гипотезы:\n",
    "- H0: выборки из распределения t(3)\n",
    "- H1: выборки из нормального распределения N(0,1)\n",
    "\n",
    "Методы:\n",
    "- KNN-граф → характеристика: максимальная степень\n",
    "- Distance-граф → характеристика: максимальное независимое множество\n"
   ]
  },
  {
   "cell_type": "code",
   "execution_count": 1,
   "metadata": {
    "colab": {
     "base_uri": "https://localhost:8080/",
     "height": 367
    },
    "id": "rGn1300kHCx9",
    "outputId": "28597543-5d25-4ffb-eb15-9c765f731305"
   },
   "outputs": [],
   "source": [
    "# 1. Настройка среды и импорты\n",
    "\n",
    "import sys\n",
    "sys.path.append('..')  # Добавляем папку src\n",
    "\n",
    "import numpy as np\n",
    "import pandas as pd\n",
    "import matplotlib.pyplot as plt\n",
    "from tqdm import tqdm\n",
    "\n",
    "from scipy.stats import norm, chisquare\n",
    "\n",
    "from data_generation import generate_sample\n",
    "from graph_utils import build_knn_graph, build_distance_graph, max_degree, max_independent_set_size\n",
    "from simulator import simulate_statistics, estimate_errors\n",
    "\n",
    "%matplotlib inline\n"
   ]
  },
  {
   "cell_type": "code",
   "execution_count": 2,
   "metadata": {
    "id": "ZteB5EMQHCx-"
   },
   "outputs": [],
   "source": [
    "# 2. Параметры эксперимента\n",
    "\n",
    "n = 1000\n",
    "trials = 1000\n",
    "alpha = 0.05\n",
    "k_knn = 3\n",
    "d_dist = 0.6\n",
    "df = 5\n"
   ]
  },
  {
   "cell_type": "code",
   "execution_count": 3,
   "metadata": {
    "id": "thMcTltmHCx_"
   },
   "outputs": [
    {
     "ename": "KeyboardInterrupt",
     "evalue": "",
     "output_type": "error",
     "traceback": [
      "\u001b[31m---------------------------------------------------------------------------\u001b[39m",
      "\u001b[31mKeyboardInterrupt\u001b[39m                         Traceback (most recent call last)",
      "\u001b[36mCell\u001b[39m\u001b[36m \u001b[39m\u001b[32mIn[3]\u001b[39m\u001b[32m, line 7\u001b[39m\n\u001b[32m      4\u001b[39m stats0_knn, stats1_knn = simulate_statistics(n, trials, \u001b[33m'\u001b[39m\u001b[33mknn\u001b[39m\u001b[33m'\u001b[39m, k_knn, df)\n\u001b[32m      6\u001b[39m \u001b[38;5;66;03m# Симуляции для distance графа\u001b[39;00m\n\u001b[32m----> \u001b[39m\u001b[32m7\u001b[39m stats0_dist, stats1_dist = \u001b[43msimulate_statistics\u001b[49m\u001b[43m(\u001b[49m\u001b[43mn\u001b[49m\u001b[43m,\u001b[49m\u001b[43m \u001b[49m\u001b[43mtrials\u001b[49m\u001b[43m,\u001b[49m\u001b[43m \u001b[49m\u001b[33;43m'\u001b[39;49m\u001b[33;43mdist\u001b[39;49m\u001b[33;43m'\u001b[39;49m\u001b[43m,\u001b[49m\u001b[43m \u001b[49m\u001b[43md_dist\u001b[49m\u001b[43m,\u001b[49m\u001b[43m \u001b[49m\u001b[43mdf\u001b[49m\u001b[43m)\u001b[49m\n",
      "\u001b[36mFile \u001b[39m\u001b[32m~/Desktop/dm-lab/simulator.py:87\u001b[39m, in \u001b[36msimulate_statistics\u001b[39m\u001b[34m(n, trials, graph_type, param, df)\u001b[39m\n\u001b[32m     85\u001b[39m     row1[\u001b[33m\"\u001b[39m\u001b[33mmax_degree\u001b[39m\u001b[33m\"\u001b[39m] = max_degree(graph1)\n\u001b[32m     86\u001b[39m     row0[\u001b[33m\"\u001b[39m\u001b[33mclique_number\u001b[39m\u001b[33m\"\u001b[39m] = compute_clique_number(graph0)\n\u001b[32m---> \u001b[39m\u001b[32m87\u001b[39m     row1[\u001b[33m\"\u001b[39m\u001b[33mclique_number\u001b[39m\u001b[33m\"\u001b[39m] = \u001b[43mcompute_clique_number\u001b[49m\u001b[43m(\u001b[49m\u001b[43mgraph1\u001b[49m\u001b[43m)\u001b[49m\n\u001b[32m     89\u001b[39m \u001b[38;5;28;01melse\u001b[39;00m:\n\u001b[32m     90\u001b[39m     \u001b[38;5;28;01mraise\u001b[39;00m \u001b[38;5;167;01mValueError\u001b[39;00m(\u001b[33mf\u001b[39m\u001b[33m\"\u001b[39m\u001b[33mUnknown graph_type=\u001b[39m\u001b[38;5;132;01m{\u001b[39;00mgraph_type\u001b[38;5;132;01m!r}\u001b[39;00m\u001b[33m\"\u001b[39m)\n",
      "\u001b[36mFile \u001b[39m\u001b[32m~/Desktop/dm-lab/simulator.py:33\u001b[39m, in \u001b[36mcompute_clique_number\u001b[39m\u001b[34m(G)\u001b[39m\n\u001b[32m     23\u001b[39m \u001b[38;5;250m\u001b[39m\u001b[33;03m\"\"\"\u001b[39;00m\n\u001b[32m     24\u001b[39m \u001b[33;03mВычисляет кликовое число графа как размер максимального независимого множества в дополнении графа.\u001b[39;00m\n\u001b[32m     25\u001b[39m \u001b[33;03m\u001b[39;00m\n\u001b[32m   (...)\u001b[39m\u001b[32m     30\u001b[39m \u001b[33;03m    int: Кликовое число (ω(G)).\u001b[39;00m\n\u001b[32m     31\u001b[39m \u001b[33;03m\"\"\"\u001b[39;00m\n\u001b[32m     32\u001b[39m G_comp = complement_graph(G)\n\u001b[32m---> \u001b[39m\u001b[32m33\u001b[39m \u001b[38;5;28;01mreturn\u001b[39;00m \u001b[43mmax_independent_set_size\u001b[49m\u001b[43m(\u001b[49m\u001b[43mG_comp\u001b[49m\u001b[43m)\u001b[49m\n",
      "\u001b[36mFile \u001b[39m\u001b[32m~/Desktop/dm-lab/graph_utils.py:54\u001b[39m, in \u001b[36mmax_independent_set_size\u001b[39m\u001b[34m(G)\u001b[39m\n\u001b[32m     52\u001b[39m \u001b[38;5;28;01mdef\u001b[39;00m\u001b[38;5;250m \u001b[39m\u001b[34mmax_independent_set_size\u001b[39m(G: \u001b[38;5;28mdict\u001b[39m) -> \u001b[38;5;28mint\u001b[39m:\n\u001b[32m     53\u001b[39m     \u001b[38;5;66;03m# размер макс независимого множества\u001b[39;00m\n\u001b[32m---> \u001b[39m\u001b[32m54\u001b[39m     mis = \u001b[43mgreedy_max_independent_set\u001b[49m\u001b[43m(\u001b[49m\u001b[43mG\u001b[49m\u001b[43m)\u001b[49m\n\u001b[32m     55\u001b[39m     \u001b[38;5;28;01mreturn\u001b[39;00m \u001b[38;5;28mlen\u001b[39m(mis)\n",
      "\u001b[36mFile \u001b[39m\u001b[32m~/Desktop/dm-lab/graph_utils.py:46\u001b[39m, in \u001b[36mgreedy_max_independent_set\u001b[39m\u001b[34m(G)\u001b[39m\n\u001b[32m     44\u001b[39m     \u001b[38;5;28;01mfor\u001b[39;00m rem \u001b[38;5;129;01min\u001b[39;00m to_remove:  \u001b[38;5;66;03m# удаляем соседей\u001b[39;00m\n\u001b[32m     45\u001b[39m         \u001b[38;5;28;01mfor\u001b[39;00m neigh \u001b[38;5;129;01min\u001b[39;00m G_copy.get(rem, []):\n\u001b[32m---> \u001b[39m\u001b[32m46\u001b[39m             \u001b[43mG_copy\u001b[49m\u001b[43m[\u001b[49m\u001b[43mneigh\u001b[49m\u001b[43m]\u001b[49m\u001b[43m.\u001b[49m\u001b[43mdiscard\u001b[49m\u001b[43m(\u001b[49m\u001b[43mrem\u001b[49m\u001b[43m)\u001b[49m\n\u001b[32m     47\u001b[39m         G_copy.pop(rem, \u001b[38;5;28;01mNone\u001b[39;00m)\n\u001b[32m     49\u001b[39m \u001b[38;5;28;01mreturn\u001b[39;00m independent_set\n",
      "\u001b[31mKeyboardInterrupt\u001b[39m: "
     ]
    }
   ],
   "source": [
    "# 3. Monte Carlo симуляции\n",
    "\n",
    "# Симуляции для k-NN графа\n",
    "stats0_knn, stats1_knn = simulate_statistics(n, trials, 'knn', k_knn, df)\n",
    "\n",
    "# Симуляции для distance графа\n",
    "stats0_dist, stats1_dist = simulate_statistics(n, trials, 'dist', d_dist, df)\n"
   ]
  },
  {
   "cell_type": "code",
   "execution_count": null,
   "metadata": {},
   "outputs": [],
   "source": [
    "# 4. Визуализация характеристик\n",
    "\n",
    "# Гистограмма для максимальной степени (k-NN)\n",
    "plt.figure(figsize=(8, 5))\n",
    "plt.hist(stats0_knn['max_degree'], bins=30, alpha=0.5, label='H₀: N(0,1)', density=True)\n",
    "plt.hist(stats1_knn['max_degree'], bins=30, alpha=0.5, label='H₁: Student(df=5)', density=True)\n",
    "plt.title('Распределение максимальной степени (k-NN, k=3, n=1000)')\n",
    "plt.xlabel('Максимальная степень (Δ(G))')\n",
    "plt.ylabel('Плотность')\n",
    "plt.legend()\n",
    "plt.grid(True)\n",
    "plt.savefig('knn_max_degree.png')\n",
    "plt.show()\n"
   ]
  },
  {
   "cell_type": "code",
   "execution_count": 3,
   "metadata": {
    "id": "thMcTltmHCx_"
   },
   "outputs": [
    {
     "name": "stderr",
     "output_type": "stream",
     "text": [
      "KNN H0: 100%|████████████████████████████████████████████████████████████████████████████| 1000/1000 [01:12<00:00, 13.76it/s]\n",
      "KNN H1: 100%|████████████████████████████████████████████████████████████████████████████| 1000/1000 [01:13<00:00, 13.68it/s]\n"
     ]
    }
   ],
   "source": [
    "tri0 = [max_degree(build_knn_graph(x, k_knn)) for x in tqdm(h0_samples, desc='KNN H0')]\n",
    "tri1 = [max_degree(build_knn_graph(x, k_knn)) for x in tqdm(h1_samples, desc='KNN H1')]"
   ]
  },
  {
   "cell_type": "markdown",
   "metadata": {
    "id": "qpZJmxQQHCx_"
   },
   "source": [
    "### Визуализация распределения треугольников\n"
   ]
  },
  {
   "cell_type": "code",
   "execution_count": 4,
   "metadata": {
    "id": "yRMo5SMgHCx_"
   },
   "outputs": [
    {
     "data": {
      "image/png": "[encoded data removed]",
      "text/plain": [
       "<Figure size 640x480 with 1 Axes>"
      ]
     },
     "metadata": {},
     "output_type": "display_data"
    }
   ],
   "source": [
    "plt.hist(tri0, bins=50, alpha=0.6, label='H0')\n",
    "plt.hist(tri1, bins=50, alpha=0.6, label='H1')\n",
    "plt.axvline(np.percentile(tri0, 100*(1-alpha)), color='black', linestyle='--', label='Threshold')\n",
    "plt.title('KNN: Максимальная степень')\n",
    "plt.legend()\n",
    "plt.show()"
   ]
  },
  {
   "cell_type": "markdown",
   "metadata": {
    "id": "bF019utkHCx_"
   },
   "source": [
    "## 3. Характеристика DIST-графа: максимальное независимое множество\n"
   ]
  },
  {
   "cell_type": "code",
   "execution_count": null,
   "metadata": {
    "id": "fwiadlFYHCyA"
   },
   "outputs": [],
   "source": [
    "clique0 = [max_independent_set_size(build_distance_graph(x, d_dist)) for x in tqdm(h0_samples, desc='DIST H0')]\n",
    "clique1 = [max_independent_set_size(build_distance_graph(x, d_dist)) for x in tqdm(h1_samples, desc='DIST H1')]"
   ]
  },
  {
   "cell_type": "code",
   "execution_count": null,
   "metadata": {
    "id": "Yu-kgRlgHCyA"
   },
   "outputs": [],
   "source": [
    "plt.hist(clique0, bins=50, alpha=0.6, label='H0')\n",
    "plt.hist(clique1, bins=50, alpha=0.6, label='H1')\n",
    "plt.axvline(np.percentile(clique0, 100*(1-alpha)), color='black', linestyle='--', label='Threshold')\n",
    "plt.title('DIST: Максимальное независимое множество')\n",
    "plt.legend()\n",
    "plt.show()"
   ]
  },
  {
   "cell_type": "markdown",
   "metadata": {
    "id": "cbB7fnoOHCyA"
   },
   "source": [
    "## 4. χ²-тест по 10 равноправным бинам\n"
   ]
  },
  {
   "cell_type": "code",
   "execution_count": null,
   "metadata": {
    "id": "7GEEY1DQHCyA"
   },
   "outputs": [],
   "source": [
    "num_bins = 10\n",
    "edges = norm.ppf(np.linspace(0, 1, num_bins + 1))\n",
    "\n",
    "def stat_chi2(x):\n",
    "    obs, _ = np.histogram(x, bins=edges)\n",
    "    exp = np.full(num_bins, len(x)/num_bins)\n",
    "    return chisquare(f_obs=obs, f_exp=exp)\n",
    "\n",
    "p0 = [stat_chi2(x)[1] for x in tqdm(h0_samples, desc='Chi2 H0')]\n",
    "p1 = [stat_chi2(x)[1] for x in tqdm(h1_samples, desc='Chi2 H1')]"
   ]
  },
  {
   "cell_type": "code",
   "execution_count": null,
   "metadata": {
    "id": "HasDnTcNHCyA"
   },
   "outputs": [],
   "source": [
    "plt.hist(p0, bins=50, range=(0,1), alpha=0.6, label='H0')\n",
    "plt.hist(p1, bins=50, range=(0,1), alpha=0.6, label='H1')\n",
    "plt.axvline(alpha, color='red', linestyle='--')\n",
    "plt.title('p-значения χ²-теста')\n",
    "plt.legend()\n",
    "plt.show()"
   ]
  }
 ],
 "metadata": {
  "colab": {
   "provenance": []
  },
  "kernelspec": {
   "display_name": "Python 3 (ipykernel)",
   "language": "python",
   "name": "python3"
  },
  "language_info": {
   "codemirror_mode": {
    "name": "ipython",
    "version": 3
   },
   "file_extension": ".py",
   "mimetype": "text/x-python",
   "name": "python",
   "nbconvert_exporter": "python",
   "pygments_lexer": "ipython3",
   "version": "3.13.0"
  }
 },
 "nbformat": 4,
 "nbformat_minor": 4
}
